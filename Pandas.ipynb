{
  "nbformat": 4,
  "nbformat_minor": 0,
  "metadata": {
    "colab": {
      "provenance": []
    },
    "kernelspec": {
      "name": "python3",
      "display_name": "Python 3"
    },
    "language_info": {
      "name": "python"
    }
  },
  "cells": [
    {
      "cell_type": "code",
      "execution_count": null,
      "metadata": {
        "id": "Lap5k14Y_U44"
      },
      "outputs": [],
      "source": []
    },
    {
      "cell_type": "markdown",
      "source": [
        "#Pandas\n",
        "- library for Data Analysis and Manipulation\n",
        "\n",
        "#Why Pandas?\n",
        "- provides ability to work with Tabular data.\n",
        "- Tabular Data - data that is organized into tables having rows and columns"
      ],
      "metadata": {
        "id": "MxHvaAYAyJ1q"
      }
    },
    {
      "cell_type": "code",
      "source": [
        "import pandas as pd"
      ],
      "metadata": {
        "id": "1CsgZwpuyefn"
      },
      "execution_count": 1,
      "outputs": []
    },
    {
      "cell_type": "code",
      "source": [],
      "metadata": {
        "id": "p8av1knMyr5V"
      },
      "execution_count": null,
      "outputs": []
    },
    {
      "cell_type": "markdown",
      "source": [
        "#Series\n",
        "- Series is a one dimensional labelled array that can hold/store data"
      ],
      "metadata": {
        "id": "-58HwW4DyxOt"
      }
    },
    {
      "cell_type": "code",
      "source": [
        "book_title = ['C++', 'Java', 'Python', 'JavaScript']"
      ],
      "metadata": {
        "id": "2NXIiJ0My6VV"
      },
      "execution_count": 2,
      "outputs": []
    },
    {
      "cell_type": "code",
      "source": [
        "book_title = pd.Series(book_title)"
      ],
      "metadata": {
        "id": "gmkMjxhLzPvC"
      },
      "execution_count": 3,
      "outputs": []
    },
    {
      "cell_type": "code",
      "source": [
        "print(book_title)"
      ],
      "metadata": {
        "colab": {
          "base_uri": "https://localhost:8080/"
        },
        "id": "HVPp7StuzWDD",
        "outputId": "ec2d62c9-5334-477a-e7e2-474864f3c060"
      },
      "execution_count": 4,
      "outputs": [
        {
          "output_type": "stream",
          "name": "stdout",
          "text": [
            "0           C++\n",
            "1          Java\n",
            "2        Python\n",
            "3    JavaScript\n",
            "dtype: object\n"
          ]
        }
      ]
    },
    {
      "cell_type": "code",
      "source": [],
      "metadata": {
        "id": "w-bhHe6RzZO_"
      },
      "execution_count": null,
      "outputs": []
    }
  ]
}